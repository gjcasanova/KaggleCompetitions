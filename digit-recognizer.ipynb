{
 "cells": [
  {
   "cell_type": "code",
   "execution_count": 1,
   "id": "be8b407d",
   "metadata": {
    "_cell_guid": "b1076dfc-b9ad-4769-8c92-a6c4dae69d19",
    "_uuid": "8f2839f25d086af736a60e9eeb907d3b93b6e0e5",
    "execution": {
     "iopub.execute_input": "2023-03-06T02:59:19.528782Z",
     "iopub.status.busy": "2023-03-06T02:59:19.528392Z",
     "iopub.status.idle": "2023-03-06T02:59:27.093189Z",
     "shell.execute_reply": "2023-03-06T02:59:27.091781Z"
    },
    "papermill": {
     "duration": 7.573421,
     "end_time": "2023-03-06T02:59:27.096076",
     "exception": false,
     "start_time": "2023-03-06T02:59:19.522655",
     "status": "completed"
    },
    "tags": []
   },
   "outputs": [],
   "source": [
    "# Imports\n",
    "import numpy as np\n",
    "import pandas as pd\n",
    "import tensorflow as tf\n",
    "from sklearn.model_selection import train_test_split"
   ]
  },
  {
   "cell_type": "code",
   "execution_count": 2,
   "id": "4a3b2112",
   "metadata": {
    "execution": {
     "iopub.execute_input": "2023-03-06T02:59:27.103451Z",
     "iopub.status.busy": "2023-03-06T02:59:27.102213Z",
     "iopub.status.idle": "2023-03-06T02:59:31.771492Z",
     "shell.execute_reply": "2023-03-06T02:59:31.770248Z"
    },
    "papermill": {
     "duration": 4.675594,
     "end_time": "2023-03-06T02:59:31.774461",
     "exception": false,
     "start_time": "2023-03-06T02:59:27.098867",
     "status": "completed"
    },
    "tags": []
   },
   "outputs": [],
   "source": [
    "# Import data\n",
    "\n",
    "train_df = pd.read_csv('/kaggle/input/digit-recognizer/train.csv')\n",
    "test_df = pd.read_csv('/kaggle/input/digit-recognizer/test.csv')"
   ]
  },
  {
   "cell_type": "code",
   "execution_count": 3,
   "id": "a72b9220",
   "metadata": {
    "execution": {
     "iopub.execute_input": "2023-03-06T02:59:31.780714Z",
     "iopub.status.busy": "2023-03-06T02:59:31.780365Z",
     "iopub.status.idle": "2023-03-06T02:59:32.234180Z",
     "shell.execute_reply": "2023-03-06T02:59:32.233129Z"
    },
    "papermill": {
     "duration": 0.459995,
     "end_time": "2023-03-06T02:59:32.237019",
     "exception": false,
     "start_time": "2023-03-06T02:59:31.777024",
     "status": "completed"
    },
    "tags": []
   },
   "outputs": [],
   "source": [
    "# Preprocessing\n",
    "\n",
    "train_labels = train_df['label'].to_numpy(dtype=int).reshape((-1, 1)) \n",
    "train_data = train_df.drop(labels=['label'], axis=1).to_numpy(dtype=int).reshape((-1, 28, 28))\n",
    "\n",
    "X_train, X_test, y_train, y_test = train_test_split(train_data, train_labels, test_size=0.05, shuffle=True)"
   ]
  },
  {
   "cell_type": "code",
   "execution_count": 4,
   "id": "5e8d3a8c",
   "metadata": {
    "execution": {
     "iopub.execute_input": "2023-03-06T02:59:32.244278Z",
     "iopub.status.busy": "2023-03-06T02:59:32.243904Z",
     "iopub.status.idle": "2023-03-06T02:59:34.726227Z",
     "shell.execute_reply": "2023-03-06T02:59:34.725440Z"
    },
    "papermill": {
     "duration": 2.496728,
     "end_time": "2023-03-06T02:59:34.736831",
     "exception": false,
     "start_time": "2023-03-06T02:59:32.240103",
     "status": "completed"
    },
    "tags": []
   },
   "outputs": [
    {
     "name": "stdout",
     "output_type": "stream",
     "text": [
      "Model: \"DigitRecognizer\"\n",
      "_________________________________________________________________\n",
      " Layer (type)                Output Shape              Param #   \n",
      "=================================================================\n",
      " conv2d (Conv2D)             (None, 26, 26, 25)        250       \n",
      "                                                                 \n",
      " flatten (Flatten)           (None, 16900)             0         \n",
      "                                                                 \n",
      " dense (Dense)               (None, 10)                169010    \n",
      "                                                                 \n",
      "=================================================================\n",
      "Total params: 169,260\n",
      "Trainable params: 169,260\n",
      "Non-trainable params: 0\n",
      "_________________________________________________________________\n",
      "None\n"
     ]
    }
   ],
   "source": [
    "# Model creation\n",
    "\n",
    "model = tf.keras.models.Sequential(name='DigitRecognizer')\n",
    "\n",
    "# Layers\n",
    "\n",
    "# Input layer\n",
    "model.add(tf.keras.layers.Conv2D(filters=25, kernel_size=(3, 3), activation='relu', input_shape=(28, 28, 1)))\n",
    "# Deep layers\n",
    "model.add(tf.keras.layers.Flatten())\n",
    "# Output layer\n",
    "model.add(tf.keras.layers.Dense(10, activation='softmax'))\n",
    "\n",
    "# Compilation\n",
    "model.compile(optimizer='adam', metrics=['accuracy'], loss='sparse_categorical_crossentropy')\n",
    "\n",
    "# Summary\n",
    "print(model.summary())"
   ]
  },
  {
   "cell_type": "code",
   "execution_count": 5,
   "id": "66c112a3",
   "metadata": {
    "execution": {
     "iopub.execute_input": "2023-03-06T02:59:34.744482Z",
     "iopub.status.busy": "2023-03-06T02:59:34.744184Z",
     "iopub.status.idle": "2023-03-06T02:59:46.223890Z",
     "shell.execute_reply": "2023-03-06T02:59:46.222797Z"
    },
    "papermill": {
     "duration": 11.486355,
     "end_time": "2023-03-06T02:59:46.226460",
     "exception": false,
     "start_time": "2023-03-06T02:59:34.740105",
     "status": "completed"
    },
    "tags": []
   },
   "outputs": [
    {
     "name": "stdout",
     "output_type": "stream",
     "text": [
      "Epoch 1/5\n",
      "71/71 [==============================] - 7s 10ms/step - loss: 7.7314 - accuracy: 0.8165 - val_loss: 1.0470 - val_accuracy: 0.9308\n",
      "Epoch 2/5\n",
      "71/71 [==============================] - 0s 6ms/step - loss: 0.5280 - accuracy: 0.9536 - val_loss: 0.4390 - val_accuracy: 0.9546\n",
      "Epoch 3/5\n",
      "71/71 [==============================] - 0s 6ms/step - loss: 0.1456 - accuracy: 0.9789 - val_loss: 0.3407 - val_accuracy: 0.9571\n",
      "Epoch 4/5\n",
      "71/71 [==============================] - 0s 6ms/step - loss: 0.0687 - accuracy: 0.9863 - val_loss: 0.3025 - val_accuracy: 0.9649\n",
      "Epoch 5/5\n",
      "71/71 [==============================] - 0s 6ms/step - loss: 0.0221 - accuracy: 0.9938 - val_loss: 0.2947 - val_accuracy: 0.9637\n"
     ]
    }
   ],
   "source": [
    "# Training\n",
    "\n",
    "history = model.fit(X_train, y_train, epochs=5, validation_split=0.1, batch_size=512)"
   ]
  },
  {
   "cell_type": "code",
   "execution_count": 6,
   "id": "17c54f22",
   "metadata": {
    "execution": {
     "iopub.execute_input": "2023-03-06T02:59:46.239295Z",
     "iopub.status.busy": "2023-03-06T02:59:46.238977Z",
     "iopub.status.idle": "2023-03-06T02:59:46.488511Z",
     "shell.execute_reply": "2023-03-06T02:59:46.487532Z"
    },
    "papermill": {
     "duration": 0.258277,
     "end_time": "2023-03-06T02:59:46.490728",
     "exception": false,
     "start_time": "2023-03-06T02:59:46.232451",
     "status": "completed"
    },
    "tags": []
   },
   "outputs": [
    {
     "name": "stdout",
     "output_type": "stream",
     "text": [
      "66/66 [==============================] - 0s 2ms/step - loss: 0.2556 - accuracy: 0.9700\n"
     ]
    },
    {
     "data": {
      "text/plain": [
       "[0.25561660528182983, 0.9700000286102295]"
      ]
     },
     "execution_count": 6,
     "metadata": {},
     "output_type": "execute_result"
    }
   ],
   "source": [
    "# Evaluation\n",
    "\n",
    "model.evaluate(X_test, y_test)"
   ]
  },
  {
   "cell_type": "code",
   "execution_count": 7,
   "id": "ba6b3e35",
   "metadata": {
    "execution": {
     "iopub.execute_input": "2023-03-06T02:59:46.505555Z",
     "iopub.status.busy": "2023-03-06T02:59:46.503918Z",
     "iopub.status.idle": "2023-03-06T02:59:50.862606Z",
     "shell.execute_reply": "2023-03-06T02:59:50.861526Z"
    },
    "papermill": {
     "duration": 4.368405,
     "end_time": "2023-03-06T02:59:50.865360",
     "exception": false,
     "start_time": "2023-03-06T02:59:46.496955",
     "status": "completed"
    },
    "tags": []
   },
   "outputs": [
    {
     "name": "stdout",
     "output_type": "stream",
     "text": [
      "875/875 [==============================] - 1s 2ms/step\n"
     ]
    }
   ],
   "source": [
    "# Solving exercise\n",
    "\n",
    "# Read data\n",
    "X_prediction = pd.read_csv('/kaggle/input/digit-recognizer/test.csv').to_numpy(dtype=int).reshape(-1, 28, 28)\n",
    "\n",
    "# Evaluate\n",
    "y_prediction = model.predict(X_prediction)"
   ]
  },
  {
   "cell_type": "code",
   "execution_count": 8,
   "id": "2a88d9ce",
   "metadata": {
    "execution": {
     "iopub.execute_input": "2023-03-06T02:59:50.881248Z",
     "iopub.status.busy": "2023-03-06T02:59:50.880945Z",
     "iopub.status.idle": "2023-03-06T02:59:50.921915Z",
     "shell.execute_reply": "2023-03-06T02:59:50.921010Z"
    },
    "papermill": {
     "duration": 0.051373,
     "end_time": "2023-03-06T02:59:50.924134",
     "exception": false,
     "start_time": "2023-03-06T02:59:50.872761",
     "status": "completed"
    },
    "tags": []
   },
   "outputs": [],
   "source": [
    "# Save result\n",
    "answer = pd.read_csv('/kaggle/input/digit-recognizer/sample_submission.csv')\n",
    "answer['Label'] = np.argmax(y_prediction, axis=1)\n",
    "\n",
    "answer.to_csv('/kaggle/working/submit.csv', index=False)"
   ]
  }
 ],
 "metadata": {
  "kernelspec": {
   "display_name": "Python 3",
   "language": "python",
   "name": "python3"
  },
  "language_info": {
   "codemirror_mode": {
    "name": "ipython",
    "version": 3
   },
   "file_extension": ".py",
   "mimetype": "text/x-python",
   "name": "python",
   "nbconvert_exporter": "python",
   "pygments_lexer": "ipython3",
   "version": "3.7.12"
  },
  "papermill": {
   "default_parameters": {},
   "duration": 43.760646,
   "end_time": "2023-03-06T02:59:54.314372",
   "environment_variables": {},
   "exception": null,
   "input_path": "__notebook__.ipynb",
   "output_path": "__notebook__.ipynb",
   "parameters": {},
   "start_time": "2023-03-06T02:59:10.553726",
   "version": "2.4.0"
  }
 },
 "nbformat": 4,
 "nbformat_minor": 5
}
